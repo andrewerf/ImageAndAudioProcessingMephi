{
 "cells": [
  {
   "cell_type": "code",
   "execution_count": null,
   "metadata": {
    "collapsed": true,
    "ExecuteTime": {
     "start_time": "2023-04-30T17:02:07.218899Z",
     "end_time": "2023-04-30T17:02:07.265662Z"
    }
   },
   "outputs": [],
   "source": [
    "import numpy as np\n",
    "import itertools\n",
    "import PIL.Image\n",
    "import matplotlib.pyplot as plt\n",
    "plt.rcParams['figure.figsize'] = [25, 15]\n"
   ]
  },
  {
   "cell_type": "code",
   "execution_count": null,
   "outputs": [],
   "source": [
    "line = np.array( PIL.Image.open('/home/andrew/Projects/MEPhI/ImageAndAudioProcessing/data/Glag.bmp') )[..., 0]\n",
    "line[line > 0] = 1\n",
    "line = 1 - line\n",
    "plt.imshow(line)\n",
    "plt.show()"
   ],
   "metadata": {
    "collapsed": false,
    "ExecuteTime": {
     "start_time": "2023-04-30T17:15:20.288757Z",
     "end_time": "2023-04-30T17:15:20.658503Z"
    }
   }
  },
  {
   "cell_type": "code",
   "execution_count": null,
   "outputs": [],
   "source": [
    "def first_nonzero(arr, axis, invalid_val=-1):\n",
    "    mask = arr!=0\n",
    "    return np.min( np.where(mask.any(axis=axis), mask.argmax(axis=axis), 100000) )\n",
    "def last_nonzero(arr, axis):\n",
    "    flipped_nz = first_nonzero(np.flip(arr), axis)\n",
    "    return arr.shape[axis] - flipped_nz\n",
    "\n",
    "def split_to_letters(img):\n",
    "    profile = np.sum( img, 0 )\n",
    "\n",
    "    l = None\n",
    "    cs = []\n",
    "    for x in range(profile.shape[0]):\n",
    "        if l is None:\n",
    "            if profile[x] == 0:\n",
    "                l = x\n",
    "        elif profile[x] != 0:\n",
    "            cs.append((l + x) // 2)\n",
    "            l = None\n",
    "\n",
    "    plt.imshow(img)\n",
    "    for c in cs:\n",
    "        plt.plot( [c, c], [0, img.shape[0]], color='white', linewidth=3 )\n",
    "\n",
    "    return cs\n",
    "\n",
    "split_to_letters(line)"
   ],
   "metadata": {
    "collapsed": false,
    "ExecuteTime": {
     "start_time": "2023-04-30T17:20:48.746974Z",
     "end_time": "2023-04-30T17:20:49.286383Z"
    }
   }
  },
  {
   "cell_type": "code",
   "execution_count": null,
   "outputs": [],
   "source": [],
   "metadata": {
    "collapsed": false
   }
  }
 ],
 "metadata": {
  "kernelspec": {
   "display_name": "Python 3",
   "language": "python",
   "name": "python3"
  },
  "language_info": {
   "codemirror_mode": {
    "name": "ipython",
    "version": 2
   },
   "file_extension": ".py",
   "mimetype": "text/x-python",
   "name": "python",
   "nbconvert_exporter": "python",
   "pygments_lexer": "ipython2",
   "version": "2.7.6"
  }
 },
 "nbformat": 4,
 "nbformat_minor": 0
}
