{
 "cells": [
  {
   "cell_type": "code",
   "execution_count": null,
   "metadata": {
    "collapsed": true
   },
   "outputs": [],
   "source": [
    "import numpy as np\n",
    "import PIL.Image\n",
    "import matplotlib.pyplot as plt\n",
    "plt.rcParams['figure.figsize'] = [15, 10]\n",
    "import itertools\n",
    "\n",
    "print(1 + (3 - 1) % 10)"
   ]
  },
  {
   "cell_type": "code",
   "execution_count": null,
   "outputs": [],
   "source": [
    "def to_grayscale( img: np.ndarray ):\n",
    "    return 0.3 * img[:, :, 0] + 0.59 * img[:, :, 1] + 0.11 * img[:, :, 2]"
   ],
   "metadata": {
    "collapsed": false
   }
  },
  {
   "cell_type": "code",
   "execution_count": null,
   "outputs": [],
   "source": [
    "def get_otsu_thresh( img: np.ndarray ):\n",
    "    count = 256\n",
    "    hist, bins = np.histogram( img.flatten(), count )\n",
    "\n",
    "    hist = hist / np.sum( hist )\n",
    "    prob = np.cumsum( hist )\n",
    "    cummean = np.cumsum( np.arange( 0, count ) * hist )\n",
    "\n",
    "    res = 0\n",
    "    res_metric = 0\n",
    "    for i in range(count - 1):\n",
    "        w0 = prob[i]\n",
    "        w1 = 1 - prob[i]\n",
    "\n",
    "        v0 = cummean[i] / prob[i]\n",
    "        v1 = ( cummean[-1] - cummean[i] ) / ( 1 - prob[i] )\n",
    "\n",
    "        r = w0 * w1 * ( v1 - v0 )**2\n",
    "        if r > res_metric:\n",
    "            res_metric = r\n",
    "            res = i\n",
    "\n",
    "    return ( bins[res - 1] + bins[res] ) / 2"
   ],
   "metadata": {
    "collapsed": false
   }
  },
  {
   "cell_type": "code",
   "execution_count": null,
   "outputs": [],
   "source": [
    "def process_and_show(img: np.ndarray):\n",
    "    gray_img = to_grayscale( img )\n",
    "    thresh_value = get_otsu_thresh( gray_img )\n",
    "    thresh_img = np.zeros_like( gray_img )\n",
    "    thresh_img[gray_img >= thresh_value] = 255\n",
    "\n",
    "    plt.subplot( 1, 3, 1 )\n",
    "    plt.title('Original')\n",
    "    plt.imshow( img )\n",
    "\n",
    "    plt.subplot( 1, 3, 2 )\n",
    "    plt.title('Grayscale')\n",
    "    plt.imshow( gray_img, cmap='gray' )\n",
    "\n",
    "    plt.subplot( 1, 3, 3 )\n",
    "    plt.title('Thresholded')\n",
    "    plt.imshow( thresh_img, cmap='gray' )\n",
    "    plt.show()"
   ],
   "metadata": {
    "collapsed": false
   }
  },
  {
   "cell_type": "code",
   "execution_count": null,
   "outputs": [],
   "source": [
    "img = np.array(PIL.Image.open( 'data/lecture_digit.png' ))\n",
    "process_and_show(img)\n",
    "\n",
    "img = np.array(PIL.Image.open( 'data/text.png' ))\n",
    "process_and_show(img)"
   ],
   "metadata": {
    "collapsed": false
   }
  }
 ],
 "metadata": {
  "kernelspec": {
   "display_name": "Python 3",
   "language": "python",
   "name": "python3"
  },
  "language_info": {
   "codemirror_mode": {
    "name": "ipython",
    "version": 2
   },
   "file_extension": ".py",
   "mimetype": "text/x-python",
   "name": "python",
   "nbconvert_exporter": "python",
   "pygments_lexer": "ipython2",
   "version": "2.7.6"
  }
 },
 "nbformat": 4,
 "nbformat_minor": 0
}
