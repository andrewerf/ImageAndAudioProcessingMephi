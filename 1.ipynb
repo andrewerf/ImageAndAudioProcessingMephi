{
 "cells": [
  {
   "cell_type": "code",
   "execution_count": null,
   "metadata": {
    "collapsed": true
   },
   "outputs": [],
   "source": [
    "import numpy as np\n",
    "import PIL.Image\n",
    "import matplotlib.pyplot as plt\n",
    "import itertools"
   ]
  },
  {
   "cell_type": "code",
   "execution_count": null,
   "outputs": [],
   "source": [
    "def decimate( img: np.ndarray, m: float, filter = lambda x: np.mean(x, (0, 1)) ):\n",
    "    ret = np.zeros( ( np.int64( img.shape[0] * m ), np.int64( img.shape[1] * m ), img.shape[2] ), img.dtype )\n",
    "    k = 1 / m\n",
    "\n",
    "    for i, j in itertools.product(range( ret.shape[0] ), range( ret.shape[1] )):\n",
    "        ret[i, j] = filter( img[np.int64(k * i) : np.int64(k * (i + 1)),\n",
    "                                np.int64(k * j) : np.int64(k * (j + 1))] )\n",
    "\n",
    "    return ret"
   ],
   "metadata": {
    "collapsed": false
   }
  },
  {
   "cell_type": "code",
   "execution_count": null,
   "outputs": [],
   "source": [
    "def interpolate( img: np.ndarray, m: float ):\n",
    "    ret = np.zeros( ( np.int64( img.shape[0] * m ), np.int64( img.shape[1] * m ), img.shape[2] ), img.dtype )\n",
    "\n",
    "    for i, j in itertools.product(range( img.shape[0] ), range( img.shape[1] )):\n",
    "        ret[np.int64(m * i) : np.int64(m * (i + 1)),\n",
    "            np.int64(m * j) : np.int64(m * (j + 1))] = img[i, j]\n",
    "\n",
    "    return ret"
   ],
   "metadata": {
    "collapsed": false
   }
  },
  {
   "cell_type": "code",
   "execution_count": null,
   "outputs": [],
   "source": [
    "def resample( img, m ):\n",
    "    if m >= 1:\n",
    "        return interpolate( img, m )\n",
    "    else:\n",
    "        return decimate( img, m )"
   ],
   "metadata": {
    "collapsed": false
   }
  },
  {
   "cell_type": "code",
   "execution_count": null,
   "outputs": [],
   "source": [
    "img = np.array(PIL.Image.open( 'data/lena.png' ))\n",
    "interpolated = resample(img, 1.5)\n",
    "decimated = resample(img, 0.1)\n",
    "print(img.shape, interpolated.shape, decimated.shape)\n",
    "\n",
    "plt.subplot( 1, 3, 1 )\n",
    "plt.title('Original')\n",
    "plt.imshow( img )\n",
    "\n",
    "plt.subplot( 1, 3, 2 )\n",
    "plt.title('Interpolated')\n",
    "plt.imshow( interpolated )\n",
    "\n",
    "plt.subplot( 1, 3, 3 )\n",
    "plt.title('Decimated')\n",
    "plt.imshow( decimated )\n",
    "plt.show()"
   ],
   "metadata": {
    "collapsed": false
   }
  },
  {
   "cell_type": "code",
   "execution_count": null,
   "outputs": [],
   "source": [],
   "metadata": {
    "collapsed": false
   }
  }
 ],
 "metadata": {
  "kernelspec": {
   "display_name": "Python 3",
   "language": "python",
   "name": "python3"
  },
  "language_info": {
   "codemirror_mode": {
    "name": "ipython",
    "version": 2
   },
   "file_extension": ".py",
   "mimetype": "text/x-python",
   "name": "python",
   "nbconvert_exporter": "python",
   "pygments_lexer": "ipython2",
   "version": "2.7.6"
  }
 },
 "nbformat": 4,
 "nbformat_minor": 0
}
