{
 "cells": [
  {
   "cell_type": "code",
   "execution_count": null,
   "metadata": {
    "collapsed": true
   },
   "outputs": [],
   "source": [
    "import numpy as np\n",
    "import PIL.Image\n",
    "import matplotlib.pyplot as plt\n",
    "plt.rcParams['figure.figsize'] = [25, 15]\n",
    "import itertools\n",
    "from enum import Enum\n",
    "\n",
    "print(1 + (3 - 1) % 10)"
   ]
  },
  {
   "cell_type": "code",
   "execution_count": null,
   "outputs": [],
   "source": [
    "def to_grayscale( img: np.ndarray ):\n",
    "    return 0.3 * img[:, :, 0] + 0.59 * img[:, :, 1] + 0.11 * img[:, :, 2]"
   ],
   "metadata": {
    "collapsed": false
   }
  },
  {
   "cell_type": "code",
   "execution_count": null,
   "outputs": [],
   "source": [
    "Kx = np.array([\n",
    "    [-1, -2, -1],\n",
    "    [0, 0, 0],\n",
    "    [1, 2, 1]\n",
    "], float)\n",
    "\n",
    "Ky = np.array([\n",
    "    [-1, 0, 1],\n",
    "    [-2, 0, 2],\n",
    "    [-1, 0, 1]\n",
    "], float)\n"
   ],
   "metadata": {
    "collapsed": false
   }
  },
  {
   "cell_type": "code",
   "execution_count": null,
   "outputs": [],
   "source": [
    "def apply_to_patch(ker: np.ndarray, a2: np.ndarray):\n",
    "    assert(ker.shape[:2] == a2.shape[:2])\n",
    "    if len( a2.shape ) == 2:\n",
    "        a2 = np.expand_dims(a2, -1)\n",
    "\n",
    "    idx = (ker != 0)\n",
    "\n",
    "    if a2.shape[-1] == 1:\n",
    "        return ker[idx].dot( a2[idx, 0] )\n",
    "    else:\n",
    "        ret = np.stack([\n",
    "            ker[idx].dot( a2[idx, i] )\n",
    "            for i in range(a2.shape[-1])\n",
    "        ], -1)\n",
    "        return ret\n",
    "\n",
    "def convolve(kernel: np.ndarray, img: np.ndarray):\n",
    "    ksz = kernel.shape[0]\n",
    "    halfksz = int(ksz / 2)\n",
    "    padding = [(halfksz, halfksz), (halfksz, halfksz)]\n",
    "    if len(img.shape) == 3:\n",
    "        padding += [(0,0)]\n",
    "    padded_img = np.pad(img, padding , 'reflect')\n",
    "\n",
    "    ret = np.zeros_like(img)\n",
    "    for i, j in itertools.product(range( img.shape[0] ), range( img.shape[1] )):\n",
    "        ip = i + halfksz\n",
    "        jp = j + halfksz\n",
    "\n",
    "        l = ip - halfksz\n",
    "        r = ip + halfksz\n",
    "        u = jp - halfksz\n",
    "        d = jp + halfksz\n",
    "\n",
    "        ret[i, j] = apply_to_patch(kernel, padded_img[l:r + 1, u:d + 1])\n",
    "\n",
    "    return ret"
   ],
   "metadata": {
    "collapsed": false
   }
  },
  {
   "cell_type": "code",
   "execution_count": null,
   "outputs": [],
   "source": [
    "img = np.array(PIL.Image.open( 'data/0018.jpg' ))\n",
    "img = to_grayscale(img)\n",
    "\n",
    "dx = convolve(Kx, img)\n",
    "dy = convolve(Ky, img)\n",
    "grad = np.sqrt(dx**2 + dy**2)\n",
    "grad = 255 * grad / np.max(grad)\n",
    "\n",
    "plt.subplot( 2, 2, 1 )\n",
    "plt.title('Original')\n",
    "plt.imshow( img, cmap='gray' )\n",
    "\n",
    "plt.subplot( 2, 2, 2 )\n",
    "plt.title('dx')\n",
    "plt.imshow( dx, cmap='gray' )\n",
    "\n",
    "plt.subplot( 2, 2, 3 )\n",
    "plt.title('dy')\n",
    "plt.imshow( dy, cmap='gray' )\n",
    "\n",
    "plt.subplot( 2, 2, 4 )\n",
    "plt.title('G')\n",
    "plt.imshow( grad, cmap='gray' )\n",
    "\n",
    "plt.show()\n",
    "\n",
    "plt.imshow( grad > 35, cmap='gray' )\n",
    "plt.show()"
   ],
   "metadata": {
    "collapsed": false
   }
  }
 ],
 "metadata": {
  "kernelspec": {
   "display_name": "Python 3",
   "language": "python",
   "name": "python3"
  },
  "language_info": {
   "codemirror_mode": {
    "name": "ipython",
    "version": 2
   },
   "file_extension": ".py",
   "mimetype": "text/x-python",
   "name": "python",
   "nbconvert_exporter": "python",
   "pygments_lexer": "ipython2",
   "version": "2.7.6"
  }
 },
 "nbformat": 4,
 "nbformat_minor": 0
}
