{
 "cells": [
  {
   "cell_type": "code",
   "execution_count": null,
   "metadata": {
    "collapsed": true,
    "ExecuteTime": {
     "start_time": "2023-05-02T17:06:29.076001Z",
     "end_time": "2023-05-02T17:06:29.128690Z"
    }
   },
   "outputs": [],
   "source": [
    "import numpy as np\n",
    "import itertools\n",
    "import PIL.Image\n",
    "import matplotlib.pyplot as plt\n",
    "from pathlib import Path\n",
    "from dataclasses import dataclass\n",
    "# plt.rcParams['figure.figsize'] = [25, 15]\n"
   ]
  },
  {
   "cell_type": "code",
   "execution_count": null,
   "outputs": [],
   "source": [
    "def first_nonzero(arr, axis, invalid_val=-1):\n",
    "    mask = arr!=0\n",
    "    return np.min( np.where(mask.any(axis=axis), mask.argmax(axis=axis), 100000) )\n",
    "def last_nonzero(arr, axis):\n",
    "    flipped_nz = first_nonzero(np.flip(arr), axis)\n",
    "    return arr.shape[axis] - flipped_nz"
   ],
   "metadata": {
    "collapsed": false,
    "ExecuteTime": {
     "start_time": "2023-05-02T17:06:29.116682Z",
     "end_time": "2023-05-02T17:06:29.129072Z"
    }
   }
  },
  {
   "cell_type": "code",
   "execution_count": null,
   "outputs": [],
   "source": [
    "@dataclass\n",
    "class Features:\n",
    "    weight: list\n",
    "    weight_norm: list\n",
    "    centroid: tuple\n",
    "    centroid_norm: tuple\n",
    "    axes_momentum: tuple\n",
    "    axes_momentum_norm: tuple\n",
    "    profiles: list\n",
    "\n",
    "class FeaturesCalculator:\n",
    "    @staticmethod\n",
    "    def split_to_quadrants(img):\n",
    "        sz = img.shape\n",
    "        hz = ( img.shape[0] // 2, img.shape[1] // 2 )\n",
    "        return [\n",
    "            img[0:hz[0], 0:hz[1]],\n",
    "            img[0:hz[0], hz[1]:sz[1]],\n",
    "            img[hz[0]:sz[0], 0:hz[1]],\n",
    "            img[hz[0]:sz[0], hz[1]:sz[1]]\n",
    "        ]\n",
    "\n",
    "    @staticmethod\n",
    "    def weight_per_quadrant(img):\n",
    "        return list(map( lambda q: np.sum(q), FeaturesCalculator.split_to_quadrants( img ) ))\n",
    "\n",
    "    @staticmethod\n",
    "    def weight_norm_per_quadrant(img):\n",
    "        return list(map( lambda q: np.sum(q) / ( q.shape[0] * q.shape[1] ), FeaturesCalculator.split_to_quadrants( img ) ))\n",
    "\n",
    "    @staticmethod\n",
    "    def axes_reduce(img, fs):\n",
    "        if not isinstance(fs, tuple):\n",
    "            fs = (fs, fs)\n",
    "\n",
    "        meanx = 0\n",
    "        meany = 0\n",
    "        for y, x in itertools.product( range( img.shape[0] ), range( img.shape[1] ) ):\n",
    "            meany += fs[0]( y ) * img[y, x]\n",
    "            meanx += fs[1]( x ) * img[y, x]\n",
    "\n",
    "        s = np.sum(img)\n",
    "        return meany/s, meanx/s\n",
    "\n",
    "    @staticmethod\n",
    "    def centroid(img):\n",
    "        return FeaturesCalculator.axes_reduce(img, lambda x: x)\n",
    "\n",
    "    @staticmethod\n",
    "    def centroid_norm(img):\n",
    "        c = FeaturesCalculator.centroid( img )\n",
    "        return c[0] / img.shape[0], c[1] / img.shape[1]\n",
    "\n",
    "    @staticmethod\n",
    "    def axes_momentum(img):\n",
    "        c = FeaturesCalculator.centroid(img)\n",
    "        return FeaturesCalculator.axes_reduce(img, ( lambda y: (y - c[0])**2, lambda x: (x - c[1])**2 ) )\n",
    "\n",
    "    @staticmethod\n",
    "    def axes_momentum_norm(img):\n",
    "        m = FeaturesCalculator.axes_momentum(img)\n",
    "        n = img.shape[0] ** 2 + img.shape[1] ** 2\n",
    "        return m[0] / n, m[1] / n\n",
    "\n",
    "    @staticmethod\n",
    "    def proj(img, axis):\n",
    "        return np.sum(img, axis)\n",
    "\n",
    "    def __init__(self, img):\n",
    "        self.features = Features(\n",
    "            weight = FeaturesCalculator.weight_per_quadrant( img ),\n",
    "            weight_norm = FeaturesCalculator.weight_norm_per_quadrant( img ),\n",
    "            centroid = FeaturesCalculator.centroid( img ),\n",
    "            centroid_norm = FeaturesCalculator.centroid_norm( img ),\n",
    "            axes_momentum = FeaturesCalculator.axes_momentum( img ),\n",
    "            axes_momentum_norm = FeaturesCalculator.axes_momentum_norm( img ),\n",
    "            profiles=[FeaturesCalculator.proj( img, 0 ), FeaturesCalculator.proj( img, 1 )]\n",
    "        )\n",
    "\n",
    "alphabet_path = '/home/andrew/Projects/MEPhI/ImageAndAudioProcessing/data/glag_letters/'\n",
    "alphabet = []\n",
    "for i in range(41):\n",
    "    letter_path = alphabet_path + f'{i}.tif'\n",
    "    letter = np.array( PIL.Image.open( letter_path ) ).astype(float)\n",
    "    alphabet.append((FeaturesCalculator(letter).features, letter))"
   ],
   "metadata": {
    "collapsed": false,
    "ExecuteTime": {
     "start_time": "2023-05-02T17:06:29.116812Z",
     "end_time": "2023-05-02T17:06:29.993845Z"
    }
   }
  },
  {
   "cell_type": "code",
   "execution_count": null,
   "outputs": [],
   "source": [
    "def flatten_features(f: Features):\n",
    "    return [item for lst in [f.centroid_norm, f.weight_norm, f.axes_momentum_norm] for item in lst]\n",
    "\n",
    "def dist(f1: Features, f2: Features):\n",
    "    l1 = np.array(flatten_features(f1))\n",
    "    l2 = np.array(flatten_features(f2))\n",
    "\n",
    "    return np.linalg.norm(l1 - l2, 2)"
   ],
   "metadata": {
    "collapsed": false,
    "ExecuteTime": {
     "start_time": "2023-05-02T17:06:29.993830Z",
     "end_time": "2023-05-02T17:06:30.004474Z"
    }
   }
  },
  {
   "cell_type": "code",
   "execution_count": null,
   "outputs": [],
   "source": [
    "base_path = '/home/andrew/Projects/MEPhI/ImageAndAudioProcessing/data/segmented_letters/'\n",
    "for i in range(39):\n",
    "    letter_path = Path(base_path + f'{i}.tif')\n",
    "    img = np.array(PIL.Image.open(letter_path)).astype(float)\n",
    "    left = first_nonzero(img, 1)\n",
    "    right = last_nonzero(img, 1)\n",
    "    top = first_nonzero(img, 0)\n",
    "    bottom = last_nonzero(img, 0)\n",
    "\n",
    "    img = img[top:bottom, left:right]\n",
    "\n",
    "    img_feat = FeaturesCalculator(img).features\n",
    "    probs = list(map( lambda t: dist(img_feat, t), map( lambda t: t[0], alphabet ) ))\n",
    "    rs = np.argsort(probs)\n",
    "    r = rs[0]\n",
    "    # print(letter_path.name, r)\n",
    "\n",
    "    # if i < 25:\n",
    "    plt.figure()\n",
    "    plt.subplot(1, 4, 1)\n",
    "    plt.title('image')\n",
    "    plt.imshow(img)\n",
    "\n",
    "    plt.subplot(1, 4, 2)\n",
    "    plt.title(f'{probs[r]:.3f}')\n",
    "    plt.imshow(alphabet[r][1])\n",
    "\n",
    "    plt.subplot(1, 4, 3)\n",
    "    plt.title(f'{probs[rs[1]]:.3f}')\n",
    "    plt.imshow(alphabet[rs[1]][1])\n",
    "\n",
    "    plt.subplot(1, 4, 4)\n",
    "    plt.title(f'{probs[rs[2]]:.3f}')\n",
    "    plt.imshow(alphabet[rs[2]][1])\n"
   ],
   "metadata": {
    "collapsed": false,
    "ExecuteTime": {
     "start_time": "2023-05-02T17:15:05.889169Z",
     "end_time": "2023-05-02T17:15:21.057354Z"
    }
   }
  }
 ],
 "metadata": {
  "kernelspec": {
   "display_name": "Python 3",
   "language": "python",
   "name": "python3"
  },
  "language_info": {
   "codemirror_mode": {
    "name": "ipython",
    "version": 2
   },
   "file_extension": ".py",
   "mimetype": "text/x-python",
   "name": "python",
   "nbconvert_exporter": "python",
   "pygments_lexer": "ipython2",
   "version": "2.7.6"
  }
 },
 "nbformat": 4,
 "nbformat_minor": 0
}
