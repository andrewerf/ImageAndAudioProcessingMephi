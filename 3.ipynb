{
 "cells": [
  {
   "cell_type": "code",
   "execution_count": null,
   "outputs": [],
   "source": [
    "import numpy as np\n",
    "import PIL.Image\n",
    "import matplotlib.pyplot as plt\n",
    "plt.rcParams['figure.figsize'] = [25, 15]\n",
    "import itertools\n",
    "from enum import Enum\n",
    "\n",
    "print(1 + (3 - 1) % 10)"
   ],
   "metadata": {
    "collapsed": false
   }
  },
  {
   "cell_type": "code",
   "execution_count": null,
   "outputs": [],
   "source": [
    "def to_grayscale( img: np.ndarray ):\n",
    "    return 0.3 * img[:, :, 0] + 0.59 * img[:, :, 1] + 0.11 * img[:, :, 2]"
   ],
   "metadata": {
    "collapsed": false
   }
  },
  {
   "cell_type": "code",
   "execution_count": null,
   "outputs": [],
   "source": [
    "class KernelType(Enum):\n",
    "    Uniform = 1\n",
    "    Cross = 2\n",
    "    CrossDiag = 3\n",
    "\n",
    "def get_kernel( tp: KernelType, sz: int ):\n",
    "    halfsz = int(sz / 2)\n",
    "    if tp == KernelType.Uniform:\n",
    "        return np.ones((sz, sz))\n",
    "    elif tp == KernelType.Cross:\n",
    "        ret = np.zeros((sz, sz))\n",
    "        ret[halfsz, :] = 1\n",
    "        ret[:, halfsz] = 1\n",
    "        return ret\n",
    "    elif tp == KernelType.CrossDiag:\n",
    "        ret = np.zeros((sz, sz))\n",
    "        for i in range(sz):\n",
    "            ret[i, i] = 1\n",
    "            ret[i, sz - i - 1] = 1\n",
    "        return ret"
   ],
   "metadata": {
    "collapsed": false
   }
  },
  {
   "cell_type": "code",
   "execution_count": null,
   "outputs": [],
   "source": [
    "print(get_kernel(KernelType.CrossDiag, 5))\n",
    "print()\n",
    "print(get_kernel(KernelType.Cross, 5))\n",
    "print()\n",
    "print(get_kernel(KernelType.Uniform, 5))"
   ],
   "metadata": {
    "collapsed": false
   }
  },
  {
   "cell_type": "code",
   "execution_count": null,
   "outputs": [],
   "source": [
    "def apply_to_patch(ker: np.ndarray, a2: np.ndarray):\n",
    "    assert(ker.shape[:2] == a2.shape[:2])\n",
    "    if len( a2.shape ) == 2:\n",
    "        a2 = np.expand_dims(a2, -1)\n",
    "\n",
    "    idx = (ker != 0)\n",
    "\n",
    "    if a2.shape[-1] == 1:\n",
    "        return (ker[idx] * a2[idx, 0]).flatten()\n",
    "    else:\n",
    "        ret = np.stack([\n",
    "            ( ker[idx] * a2[idx, i] ).flatten()\n",
    "            for i in range(a2.shape[-1])\n",
    "        ], -1)\n",
    "        return ret\n",
    "\n",
    "def median_filtering(kernel: np.ndarray, img: np.ndarray):\n",
    "    ksz = kernel.shape[0]\n",
    "    halfksz = int(ksz / 2)\n",
    "    padding = [(halfksz, halfksz), (halfksz, halfksz)]\n",
    "    if len(img.shape) == 3:\n",
    "        padding += [(0,0)]\n",
    "    padded_img = np.pad(img, padding , 'reflect')\n",
    "    print(padded_img.shape)\n",
    "\n",
    "    ret = np.zeros_like(img)\n",
    "    for i, j in itertools.product(range( img.shape[0] ), range( img.shape[1] )):\n",
    "        ip = i + halfksz\n",
    "        jp = j + halfksz\n",
    "\n",
    "        l = ip - halfksz\n",
    "        r = ip + halfksz\n",
    "        u = jp - halfksz\n",
    "        d = jp + halfksz\n",
    "\n",
    "        ret[i, j] = np.median( apply_to_patch(kernel, padded_img[l:r + 1, u:d + 1]), 0 )\n",
    "\n",
    "    return ret"
   ],
   "metadata": {
    "collapsed": false
   }
  },
  {
   "cell_type": "code",
   "execution_count": null,
   "outputs": [],
   "source": [
    "img = np.array(PIL.Image.open( 'data/lena.png' ))\n",
    "# img = to_grayscale(img)\n",
    "\n",
    "img_filtered_uni = median_filtering(get_kernel(KernelType.Uniform, 9), img)\n",
    "\n",
    "plt.subplot(1, 2, 1)\n",
    "plt.title('Original')\n",
    "plt.imshow(img)\n",
    "\n",
    "plt.subplot(1, 2, 2)\n",
    "plt.title('Uniform')\n",
    "plt.imshow(img_filtered_uni)\n",
    "\n",
    "plt.show()"
   ],
   "metadata": {
    "collapsed": false
   }
  },
  {
   "cell_type": "code",
   "execution_count": null,
   "outputs": [],
   "source": [
    "img = np.array(PIL.Image.open( 'data/noise.png' ))\n",
    "img = to_grayscale(img)\n",
    "img[img > 0] = 255\n",
    "\n",
    "img_filtered_uni = median_filtering(get_kernel(KernelType.Uniform, 15), img)\n",
    "img_filtered_cross = median_filtering(get_kernel(KernelType.Cross, 15), img)\n",
    "img_filtered_cross_diag = median_filtering(get_kernel(KernelType.CrossDiag, 15), img)\n",
    "\n",
    "plt.subplot(1, 5, 1)\n",
    "plt.title('Original')\n",
    "plt.imshow(img, cmap='gray')\n",
    "\n",
    "plt.subplot(1, 5, 2)\n",
    "plt.title('Uniform')\n",
    "plt.imshow(img_filtered_uni, cmap='gray')\n",
    "\n",
    "plt.subplot(1, 5, 3)\n",
    "plt.title('XOR')\n",
    "plt.imshow(np.abs( img_filtered_uni - img ), cmap='gray')\n",
    "\n",
    "plt.subplot(1, 5, 4)\n",
    "plt.title('Cross')\n",
    "plt.imshow(img_filtered_cross, cmap='gray')\n",
    "\n",
    "plt.subplot(1, 5, 5)\n",
    "plt.title('CrossDiag')\n",
    "plt.imshow(img_filtered_cross_diag, cmap='gray')\n",
    "\n",
    "plt.show()"
   ],
   "metadata": {
    "collapsed": false
   }
  }
 ],
 "metadata": {
  "kernelspec": {
   "display_name": "Python 3",
   "language": "python",
   "name": "python3"
  },
  "language_info": {
   "codemirror_mode": {
    "name": "ipython",
    "version": 2
   },
   "file_extension": ".py",
   "mimetype": "text/x-python",
   "name": "python",
   "nbconvert_exporter": "python",
   "pygments_lexer": "ipython2",
   "version": "2.7.6"
  }
 },
 "nbformat": 4,
 "nbformat_minor": 0
}
