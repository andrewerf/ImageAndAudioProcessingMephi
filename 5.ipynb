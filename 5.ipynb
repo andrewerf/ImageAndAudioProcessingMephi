{
 "cells": [
  {
   "cell_type": "code",
   "execution_count": null,
   "metadata": {
    "collapsed": true,
    "ExecuteTime": {
     "start_time": "2023-04-30T15:06:36.073285Z",
     "end_time": "2023-04-30T15:06:36.115960Z"
    }
   },
   "outputs": [],
   "source": [
    "import numpy as np\n",
    "import itertools\n",
    "from dataclasses import dataclass\n",
    "import PIL.Image\n",
    "import PIL.ImageDraw\n",
    "import PIL.ImageFont\n",
    "import matplotlib.pyplot as plt"
   ]
  },
  {
   "cell_type": "code",
   "execution_count": null,
   "outputs": [],
   "source": [
    "print('\\u2C00')"
   ],
   "metadata": {
    "collapsed": false,
    "ExecuteTime": {
     "start_time": "2023-04-30T12:20:59.814468Z",
     "end_time": "2023-04-30T12:20:59.821663Z"
    }
   }
  },
  {
   "cell_type": "code",
   "execution_count": null,
   "outputs": [],
   "source": [
    "alphabet = list( map( chr, range( ord( '\\u2C00' ), ord( '\\u2C2A' ) ) ) )\n",
    "for s in alphabet:\n",
    "    print(s)\n",
    "    #Ⱀ, Ⰿ das Ⰸ"
   ],
   "metadata": {
    "collapsed": false,
    "ExecuteTime": {
     "start_time": "2023-04-30T12:31:11.815749Z",
     "end_time": "2023-04-30T12:31:11.861376Z"
    }
   }
  },
  {
   "cell_type": "code",
   "execution_count": null,
   "outputs": [],
   "source": [
    "def first_nonzero(arr, axis, invalid_val=-1):\n",
    "    mask = arr!=0\n",
    "    return np.min( np.where(mask.any(axis=axis), mask.argmax(axis=axis), 100000) )\n",
    "def last_nonzero(arr, axis):\n",
    "    flipped_nz = first_nonzero(np.flip(arr), axis)\n",
    "    return arr.shape[axis] - flipped_nz"
   ],
   "metadata": {
    "collapsed": false,
    "ExecuteTime": {
     "start_time": "2023-04-30T13:36:28.436584Z",
     "end_time": "2023-04-30T13:36:28.480246Z"
    }
   }
  },
  {
   "cell_type": "code",
   "execution_count": null,
   "outputs": [],
   "source": [
    "@dataclass\n",
    "class Features:\n",
    "    weight: list\n",
    "    weight_norm: list\n",
    "    centroid: tuple\n",
    "    centroid_norm: tuple\n",
    "    axes_momentum: tuple\n",
    "    axes_momentum_norm: tuple\n",
    "    profiles: list\n",
    "\n",
    "class FeaturesCalculator:\n",
    "    @staticmethod\n",
    "    def split_to_quadrants(img):\n",
    "        sz = img.shape\n",
    "        hz = ( img.shape[0] // 2, img.shape[1] // 2 )\n",
    "        return [\n",
    "            img[0:hz[0], 0:hz[1]],\n",
    "            img[0:hz[0], hz[1]:sz[1]],\n",
    "            img[hz[0]:sz[0], 0:hz[1]],\n",
    "            img[hz[0]:sz[0], hz[1]:sz[1]]\n",
    "        ]\n",
    "\n",
    "    @staticmethod\n",
    "    def weight_per_quadrant(img):\n",
    "        return list(map( lambda q: np.sum(q), FeaturesCalculator.split_to_quadrants( img ) ))\n",
    "\n",
    "    @staticmethod\n",
    "    def weight_norm_per_quadrant(img):\n",
    "        return list(map( lambda q: np.sum(q) / ( q.shape[0] * q.shape[1] ), FeaturesCalculator.split_to_quadrants( img ) ))\n",
    "\n",
    "    @staticmethod\n",
    "    def axes_reduce(img, fs):\n",
    "        if not isinstance(fs, tuple):\n",
    "            fs = (fs, fs)\n",
    "\n",
    "        meanx = 0\n",
    "        meany = 0\n",
    "        for y, x in itertools.product( range( img.shape[0] ), range( img.shape[1] ) ):\n",
    "            meany += fs[0]( y ) * img[y, x]\n",
    "            meanx += fs[1]( x ) * img[y, x]\n",
    "\n",
    "        s = np.sum(img)\n",
    "        return meany/s, meanx/s\n",
    "\n",
    "    @staticmethod\n",
    "    def centroid(img):\n",
    "        return FeaturesCalculator.axes_reduce(img, lambda x: x)\n",
    "\n",
    "    @staticmethod\n",
    "    def centroid_norm(img):\n",
    "        c = FeaturesCalculator.centroid( img )\n",
    "        return c[0] / img.shape[0], c[1] / img.shape[1]\n",
    "\n",
    "    @staticmethod\n",
    "    def axes_momentum(img):\n",
    "        c = FeaturesCalculator.centroid(img)\n",
    "        return FeaturesCalculator.axes_reduce(img, ( lambda y: (y - c[0])**2, lambda x: (x - c[1])**2 ) )\n",
    "\n",
    "    @staticmethod\n",
    "    def axes_momentum_norm(img):\n",
    "        m = FeaturesCalculator.axes_momentum(img)\n",
    "        return m[0] / img.shape[0], m[1] / img.shape[1]\n",
    "\n",
    "    @staticmethod\n",
    "    def proj(img, axis):\n",
    "        return np.sum(img, axis)\n",
    "\n",
    "    def __init__(self, img):\n",
    "        self.features = Features(\n",
    "            weight = FeaturesCalculator.weight_per_quadrant( img ),\n",
    "            weight_norm = FeaturesCalculator.weight_norm_per_quadrant( img ),\n",
    "            centroid = FeaturesCalculator.centroid( img ),\n",
    "            centroid_norm = FeaturesCalculator.centroid_norm( img ),\n",
    "            axes_momentum = FeaturesCalculator.axes_momentum( img ),\n",
    "            axes_momentum_norm = FeaturesCalculator.axes_momentum_norm( img ),\n",
    "            profiles=[FeaturesCalculator.proj( img, 0 ), FeaturesCalculator.proj( img, 1 )]\n",
    "        )\n",
    "\n"
   ],
   "metadata": {
    "collapsed": false,
    "ExecuteTime": {
     "start_time": "2023-04-30T15:12:15.733168Z",
     "end_time": "2023-04-30T15:12:15.767949Z"
    }
   }
  },
  {
   "cell_type": "code",
   "execution_count": null,
   "outputs": [],
   "source": [
    "base_path = '/home/andrew/Projects/MEPhI/ImageAndAudioProcessing/data/glag_letters/'\n",
    "stats_file = base_path + 'stats.csv'\n",
    "\n",
    "with open( stats_file, 'w' ) as f:\n",
    "    f.write(\n",
    "        'index,weight,weight_norm,centroid,centroid_norm,axes_momentum,axes_momentum_norm\\n'\n",
    "    )\n",
    "\n",
    "for i, l in enumerate( alphabet ):\n",
    "    img = PIL.Image.new( '1', (200, 200), 0 )\n",
    "    d = PIL.ImageDraw.Draw( img )\n",
    "    d.text( (0, -20), l, 1, PIL.ImageFont.truetype( '/usr/share/fonts/noto-sans-glagolitic/NotoSansGlagolitic-Regular.ttf', 120, encoding='unic' ) )\n",
    "\n",
    "    img_np = np.array( img )\n",
    "    left = first_nonzero(img_np, 1)\n",
    "    right = last_nonzero(img_np, 1)\n",
    "    top = first_nonzero(img_np, 0)\n",
    "    bottom = last_nonzero(img_np, 0)\n",
    "\n",
    "    img_np = img_np[top:bottom, left:right]\n",
    "\n",
    "    features = FeaturesCalculator( img_np ).features\n",
    "    plt.plot(features.profiles[0])\n",
    "    plt.savefig( base_path + f'{i}_profile_0.png' )\n",
    "    plt.clf()\n",
    "    plt.plot(features.profiles[1])\n",
    "    plt.savefig( base_path + f'{i}_profile_1.png' )\n",
    "    plt.clf()\n",
    "\n",
    "    with open(stats_file, 'a') as f:\n",
    "        f.writelines(\n",
    "            f'{i},'\n",
    "            f'{features.weight[0]};{features.weight[1]},'\n",
    "            f'{features.weight_norm[0]};{features.weight_norm[1]},'\n",
    "            f'{features.centroid[0]};{features.centroid[1]},'\n",
    "            f'{features.centroid_norm[0]};{features.centroid_norm[1]},'\n",
    "            f'{features.axes_momentum[0]};{features.axes_momentum[1]},'\n",
    "            f'{features.axes_momentum_norm[0]};{features.axes_momentum_norm[1]}\\n'\n",
    "        )\n",
    "\n",
    "    img = PIL.Image.fromarray( img_np )\n",
    "\n",
    "    img.save( base_path + f'{i}.tif', 'TIFF' )\n"
   ],
   "metadata": {
    "collapsed": false,
    "ExecuteTime": {
     "start_time": "2023-04-30T15:30:04.656958Z",
     "end_time": "2023-04-30T15:30:26.228947Z"
    }
   }
  },
  {
   "cell_type": "code",
   "execution_count": null,
   "outputs": [],
   "source": [],
   "metadata": {
    "collapsed": false
   }
  }
 ],
 "metadata": {
  "kernelspec": {
   "display_name": "Python 3",
   "language": "python",
   "name": "python3"
  },
  "language_info": {
   "codemirror_mode": {
    "name": "ipython",
    "version": 2
   },
   "file_extension": ".py",
   "mimetype": "text/x-python",
   "name": "python",
   "nbconvert_exporter": "python",
   "pygments_lexer": "ipython2",
   "version": "2.7.6"
  }
 },
 "nbformat": 4,
 "nbformat_minor": 0
}
